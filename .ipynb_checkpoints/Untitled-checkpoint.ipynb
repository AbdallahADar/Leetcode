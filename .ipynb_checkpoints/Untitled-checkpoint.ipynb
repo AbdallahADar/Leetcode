{
 "cells": [
  {
   "cell_type": "markdown",
   "id": "d5792f0e-1f40-4772-8077-55e4b9dc2392",
   "metadata": {},
   "source": [
    "# Two Sum"
   ]
  },
  {
   "cell_type": "markdown",
   "id": "e762a35d-a1e3-4f72-884c-b69b4ecd3a79",
   "metadata": {},
   "source": [
    "Given an array of integers nums and an integer target, return indices of the two numbers such that they add up to target.\n",
    "<br>\n",
    "<br>\n",
    "You may assume that each input would have exactly one solution, and you may not use the same element twice.\n",
    "<br>\n",
    "<br>\n",
    "You can return the answer in any order."
   ]
  },
  {
   "cell_type": "code",
   "execution_count": 1,
   "id": "bf294326-2801-4895-8aa8-216e9e803ff4",
   "metadata": {},
   "outputs": [],
   "source": [
    "n = [1,2,3,45]"
   ]
  },
  {
   "cell_type": "code",
   "execution_count": 3,
   "id": "6de46d3d-5ce9-46d5-a364-8e8e0d66dfd2",
   "metadata": {},
   "outputs": [
    {
     "ename": "SyntaxError",
     "evalue": "invalid syntax (259901382.py, line 1)",
     "output_type": "error",
     "traceback": [
      "\u001b[0;36m  Cell \u001b[0;32mIn[3], line 1\u001b[0;36m\u001b[0m\n\u001b[0;31m    n[!-3]\u001b[0m\n\u001b[0m      ^\u001b[0m\n\u001b[0;31mSyntaxError\u001b[0m\u001b[0;31m:\u001b[0m invalid syntax\n"
     ]
    }
   ],
   "source": [
    "n[!-3]"
   ]
  },
  {
   "cell_type": "code",
   "execution_count": null,
   "id": "5683b3de-d0c1-42e0-9e20-5de7e400b23f",
   "metadata": {},
   "outputs": [],
   "source": []
  }
 ],
 "metadata": {
  "kernelspec": {
   "display_name": "Python 3 (ipykernel)",
   "language": "python",
   "name": "python3"
  },
  "language_info": {
   "codemirror_mode": {
    "name": "ipython",
    "version": 3
   },
   "file_extension": ".py",
   "mimetype": "text/x-python",
   "name": "python",
   "nbconvert_exporter": "python",
   "pygments_lexer": "ipython3",
   "version": "3.8.16"
  }
 },
 "nbformat": 4,
 "nbformat_minor": 5
}
