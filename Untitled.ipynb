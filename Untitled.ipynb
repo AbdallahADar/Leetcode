{
 "cells": [
  {
   "cell_type": "markdown",
   "id": "a5138bf7-ec80-4619-aa41-496a6a856a83",
   "metadata": {},
   "source": [
    "-----------------------------"
   ]
  },
  {
   "cell_type": "markdown",
   "id": "d5792f0e-1f40-4772-8077-55e4b9dc2392",
   "metadata": {},
   "source": [
    "# Two Sum - EASY"
   ]
  },
  {
   "cell_type": "markdown",
   "id": "e762a35d-a1e3-4f72-884c-b69b4ecd3a79",
   "metadata": {},
   "source": [
    "Given an array of integers nums and an integer target, return indices of the two numbers such that they add up to target.\n",
    "<br>\n",
    "<br>\n",
    "You may assume that each input would have exactly one solution, and you may not use the same element twice.\n",
    "<br>\n",
    "<br>\n",
    "You can return the answer in any order."
   ]
  },
  {
   "cell_type": "code",
   "execution_count": 5,
   "id": "bf294326-2801-4895-8aa8-216e9e803ff4",
   "metadata": {},
   "outputs": [],
   "source": [
    "import twoSum"
   ]
  },
  {
   "cell_type": "code",
   "execution_count": 9,
   "id": "6de46d3d-5ce9-46d5-a364-8e8e0d66dfd2",
   "metadata": {},
   "outputs": [
    {
     "data": {
      "text/plain": [
       "(0, 4)"
      ]
     },
     "execution_count": 9,
     "metadata": {},
     "output_type": "execute_result"
    }
   ],
   "source": [
    "#Brute force method\n",
    "twoSum.twoSum_bruteforce([2,4,5,6,7,8,8,7,11,15],9)"
   ]
  },
  {
   "cell_type": "code",
   "execution_count": 10,
   "id": "5683b3de-d0c1-42e0-9e20-5de7e400b23f",
   "metadata": {},
   "outputs": [
    {
     "data": {
      "text/plain": [
       "(0, 4)"
      ]
     },
     "execution_count": 10,
     "metadata": {},
     "output_type": "execute_result"
    }
   ],
   "source": [
    "#Faster method with better memory management that uses slicing \n",
    "    #and list index operations\n",
    "twoSum.twoSum_list_ops([2,4,5,6,7,8,8,7,11,15],9)"
   ]
  },
  {
   "cell_type": "markdown",
   "id": "2f946835-9518-4788-a2eb-f50c6dc4b758",
   "metadata": {},
   "source": [
    "-----------------------------"
   ]
  },
  {
   "cell_type": "markdown",
   "id": "f2929fa6-7555-49c7-ba3e-c27a28a6097f",
   "metadata": {},
   "source": [
    "# Add Two Numbers - MEDIUM"
   ]
  },
  {
   "cell_type": "markdown",
   "id": "a323159c-bbba-4d35-8877-4a2b52e12253",
   "metadata": {},
   "source": [
    "You are given two non-empty linked lists representing two non-negative integers. The digits are stored in reverse order, and each of their nodes contains a single digit. Add the two numbers and return the sum as a linked list.\n",
    "<br>\n",
    "<br>\n",
    "You may assume the two numbers do not contain any leading zero, except the number 0 itself."
   ]
  },
  {
   "cell_type": "code",
   "execution_count": 1,
   "id": "090b78cc-2135-4dcc-9ddc-0c4373a2c3e9",
   "metadata": {},
   "outputs": [],
   "source": [
    "import addTwoNumbers"
   ]
  },
  {
   "cell_type": "code",
   "execution_count": 2,
   "id": "8b184830-dcdc-424f-90b2-876e87a5f245",
   "metadata": {},
   "outputs": [],
   "source": [
    "#Initialize linked lists\n",
    "l1 = addTwoNumbers.ListNode_from_list([9,9,9,9,9,9,9])\n",
    "l2 = addTwoNumbers.ListNode_from_list([9,9,9,9])"
   ]
  },
  {
   "cell_type": "code",
   "execution_count": 3,
   "id": "01f7befb-7170-44b7-af17-4fa0b6acfaa4",
   "metadata": {},
   "outputs": [
    {
     "data": {
      "text/plain": [
       "[8, 9, 9, 9, 0, 0, 0, 1]"
      ]
     },
     "execution_count": 3,
     "metadata": {},
     "output_type": "execute_result"
    }
   ],
   "source": [
    "#Not very fast comparatively and not very memory efficient comparatively\n",
    "addTwoNumbers.list_from_ListNode(addTwoNumbers.addTwoNumbers_string_trick(l1,l2))"
   ]
  },
  {
   "cell_type": "code",
   "execution_count": 5,
   "id": "17651d25-e8ec-40e1-a96b-cd799323dc72",
   "metadata": {},
   "outputs": [
    {
     "data": {
      "text/plain": [
       "[8, 9, 9, 9, 0, 0, 0, 1]"
      ]
     },
     "execution_count": 5,
     "metadata": {},
     "output_type": "execute_result"
    }
   ],
   "source": [
    "#Faster with similar memory efficiency\n",
    "addTwoNumbers.list_from_ListNode(addTwoNumbers.addTwoNumbers_lists(l1,l2))"
   ]
  },
  {
   "cell_type": "code",
   "execution_count": 6,
   "id": "eb0963b3-12e5-4744-b9fc-b977efc8c0e7",
   "metadata": {},
   "outputs": [
    {
     "data": {
      "text/plain": [
       "[8, 9, 9, 9, 0, 0, 0, 1]"
      ]
     },
     "execution_count": 6,
     "metadata": {},
     "output_type": "execute_result"
    }
   ],
   "source": [
    "#Faster with better memory efficiency\n",
    "addTwoNumbers.list_from_ListNode(addTwoNumbers.addTwoNumbers_dynamic(l1,l2))"
   ]
  },
  {
   "cell_type": "markdown",
   "id": "77bc99c6-ee24-4c93-8708-9f35b4bae37d",
   "metadata": {},
   "source": [
    "-----------------------------"
   ]
  },
  {
   "cell_type": "markdown",
   "id": "1982e512-4ddd-4509-bf5e-7f0b4e06b724",
   "metadata": {},
   "source": [
    "# Longest Substring Without Repeating Characters - MEDIUM"
   ]
  },
  {
   "cell_type": "markdown",
   "id": "ac0d6120-5c37-4a78-adb0-6974fe5466ed",
   "metadata": {},
   "source": [
    "Given a string s, find the length of the longest \n",
    "substring without repeating characters."
   ]
  },
  {
   "cell_type": "code",
   "execution_count": 1,
   "id": "bf03d905-60b5-4564-be93-b9adb66a6a55",
   "metadata": {},
   "outputs": [],
   "source": [
    "import LongestSubstringNonRepeating"
   ]
  },
  {
   "cell_type": "code",
   "execution_count": 3,
   "id": "64183037-65e4-4df0-b3f0-812e1e923b35",
   "metadata": {},
   "outputs": [
    {
     "data": {
      "text/plain": [
       "5"
      ]
     },
     "execution_count": 3,
     "metadata": {},
     "output_type": "execute_result"
    }
   ],
   "source": [
    "#Comparatively better memory management but very slow\n",
    "LongestSubstringNonRepeating.lengthOfLongestSubstring_bruteforce(\"tmmzuxt\")"
   ]
  },
  {
   "cell_type": "code",
   "execution_count": 4,
   "id": "c1201867-09f0-4a06-8923-553e4e763804",
   "metadata": {},
   "outputs": [
    {
     "data": {
      "text/plain": [
       "5"
      ]
     },
     "execution_count": 4,
     "metadata": {},
     "output_type": "execute_result"
    }
   ],
   "source": [
    "#Slightly worse memory management but fastest\n",
    "LongestSubstringNonRepeating.lengthOfLongestSubstring_dynamic_lists(\"tmmzuxt\")"
   ]
  },
  {
   "cell_type": "code",
   "execution_count": 5,
   "id": "8b77d041-b8dd-46a8-a378-bab9607af3a9",
   "metadata": {},
   "outputs": [
    {
     "data": {
      "text/plain": [
       "5"
      ]
     },
     "execution_count": 5,
     "metadata": {},
     "output_type": "execute_result"
    }
   ],
   "source": [
    "#Slower and less memory efficient compared to dynamic_lists method but the code\n",
    "    #is the easiest to follow.\n",
    "LongestSubstringNonRepeating.lengthOfLongestSubstring_dynamic_indexing(\"tmmzuxt\")"
   ]
  },
  {
   "cell_type": "markdown",
   "id": "171b9c9c-528c-488b-a879-2a64b901d869",
   "metadata": {},
   "source": [
    "-----------------------------"
   ]
  },
  {
   "cell_type": "markdown",
   "id": "9c140fb5-9da6-4cff-9ecb-fc3eed479b07",
   "metadata": {},
   "source": [
    "# Reverse Integer - MEDIUM"
   ]
  },
  {
   "cell_type": "markdown",
   "id": "54d49f29-d66c-48bc-a647-0a03b3b374a2",
   "metadata": {},
   "source": [
    "Given a signed 32-bit integer x, return x with its digits reversed. If reversing x causes the value to go outside the signed 32-bit integer range $[-2^{31}, 2^{31} - 1]$, then return 0.\n",
    "<br>\n",
    "<br>\n",
    "Assume the environment does not allow you to store 64-bit integers (signed or unsigned)."
   ]
  },
  {
   "cell_type": "code",
   "execution_count": 21,
   "id": "023ece15-8977-4585-bfb0-045fc4240eb7",
   "metadata": {},
   "outputs": [],
   "source": [
    "import reverseInteger"
   ]
  },
  {
   "cell_type": "code",
   "execution_count": 22,
   "id": "4f17ee41-94c8-4810-ac82-0c4534dc8a40",
   "metadata": {},
   "outputs": [
    {
     "data": {
      "text/plain": [
       "-987654321"
      ]
     },
     "execution_count": 22,
     "metadata": {},
     "output_type": "execute_result"
    }
   ],
   "source": [
    "reverseInteger.reverse_string_trick(-123456789)"
   ]
  },
  {
   "cell_type": "code",
   "execution_count": 23,
   "id": "6492d341-7281-4307-a510-b0dacaf83509",
   "metadata": {},
   "outputs": [
    {
     "data": {
      "text/plain": [
       "-987654321"
      ]
     },
     "execution_count": 23,
     "metadata": {},
     "output_type": "execute_result"
    }
   ],
   "source": [
    "reverseInteger.reverse_string_trick2(-123456789)"
   ]
  },
  {
   "cell_type": "code",
   "execution_count": 24,
   "id": "d1e248a0-943a-44aa-8acb-cc2a2cd670e3",
   "metadata": {},
   "outputs": [
    {
     "data": {
      "text/plain": [
       "-987654321"
      ]
     },
     "execution_count": 24,
     "metadata": {},
     "output_type": "execute_result"
    }
   ],
   "source": [
    "reverseInteger.reverse_direct(-123456789)"
   ]
  },
  {
   "cell_type": "markdown",
   "id": "e6b0d94c-2dc5-4521-8c07-04805523f110",
   "metadata": {},
   "source": [
    "-----------------------------"
   ]
  },
  {
   "cell_type": "markdown",
   "id": "6e07a5a8-5230-4271-883a-aa8b754fb9fa",
   "metadata": {},
   "source": [
    "# String to Integer (atoi) - MEDIUM"
   ]
  },
  {
   "cell_type": "markdown",
   "id": "55c91255-7ae5-479b-8475-eb1cd99ef9be",
   "metadata": {},
   "source": [
    "Implement the myAtoi(string s) function, which converts a string to a 32-bit signed integer (similar to C/C++'s atoi function).\n",
    "<br>\n",
    "<br>\n",
    "The algorithm for myAtoi(string s) is as follows:\n",
    "<br>\n",
    "<br>\n",
    "Read in and ignore any leading whitespace.\n",
    "<br>\n",
    "<br>\n",
    "Check if the next character (if not already at the end of the string) is '-' or '+'. Read this character in if it is either. This determines if the final result is negative or positive respectively. Assume the result is positive if neither is present.\n",
    "<br>\n",
    "<br>\n",
    "Read in next the characters until the next non-digit character or the end of the input is reached. The rest of the string is ignored.\n",
    "<br>\n",
    "<br>\n",
    "Convert these digits into an integer (i.e. \"123\" -> 123, \"0032\" -> 32). If no digits were read, then the integer is 0. Change the sign as necessary (from step 2).\n",
    "If the integer is out of the 32-bit signed integer range [-231, 231 - 1], then clamp the integer so that it remains in the range. Specifically, integers less than -231 should be clamped to -231, and integers greater than 231 - 1 should be clamped to 231 - 1.\n",
    "<br>\n",
    "<br>\n",
    "Return the integer as the final result.\n",
    "<br>\n",
    "<br>\n",
    "Note:\n",
    "Only the space character ' ' is considered a whitespace character.\n",
    "Do not ignore any characters other than the leading whitespace or the rest of the string after the digits."
   ]
  },
  {
   "cell_type": "code",
   "execution_count": 37,
   "id": "ddc6d7f8-edca-48d3-9696-46c04511a268",
   "metadata": {},
   "outputs": [],
   "source": [
    "import StringToInteger"
   ]
  },
  {
   "cell_type": "code",
   "execution_count": 38,
   "id": "130832e8-c919-4f3c-976d-cf671aa506d3",
   "metadata": {},
   "outputs": [
    {
     "data": {
      "text/plain": [
       "4193"
      ]
     },
     "execution_count": 38,
     "metadata": {},
     "output_type": "execute_result"
    }
   ],
   "source": [
    "StringToInteger.myAtoi(\"4193 with words\")"
   ]
  },
  {
   "cell_type": "markdown",
   "id": "2750beff-0779-4d09-a8ab-bfc4fec0f7c1",
   "metadata": {},
   "source": [
    "------------------------"
   ]
  },
  {
   "cell_type": "markdown",
   "id": "a0668fa2-acb0-407a-9a38-eca4d980656d",
   "metadata": {},
   "source": [
    "# Palindrome Number"
   ]
  },
  {
   "cell_type": "markdown",
   "id": "410b553f-13e7-4241-a119-2d3173710f0f",
   "metadata": {},
   "source": [
    "Given an integer x, return true if x is a palindrome, and false otherwise."
   ]
  },
  {
   "cell_type": "code",
   "execution_count": 75,
   "id": "acf62711-75a0-45ae-b6f5-c35d8bd328ed",
   "metadata": {},
   "outputs": [],
   "source": [
    "import PalindromeNumber"
   ]
  },
  {
   "cell_type": "code",
   "execution_count": 76,
   "id": "8aaeef49-f534-45b9-acb4-25c61b77309a",
   "metadata": {},
   "outputs": [
    {
     "data": {
      "text/plain": [
       "True"
      ]
     },
     "execution_count": 76,
     "metadata": {},
     "output_type": "execute_result"
    }
   ],
   "source": [
    "PalindromeNumber.isPalindrome_string_trick(12345678987654321)"
   ]
  },
  {
   "cell_type": "code",
   "execution_count": 77,
   "id": "849dc7ce-50bc-4845-8886-287b3275079d",
   "metadata": {},
   "outputs": [
    {
     "data": {
      "text/plain": [
       "True"
      ]
     },
     "execution_count": 77,
     "metadata": {},
     "output_type": "execute_result"
    }
   ],
   "source": [
    "PalindromeNumber.isPalindrome_string_trick2(12345678987654321)"
   ]
  },
  {
   "cell_type": "code",
   "execution_count": 78,
   "id": "39824549-70e3-4791-aac4-365818abadfd",
   "metadata": {},
   "outputs": [
    {
     "data": {
      "text/plain": [
       "True"
      ]
     },
     "execution_count": 78,
     "metadata": {},
     "output_type": "execute_result"
    }
   ],
   "source": [
    "PalindromeNumber.isPalindrome_remainders(12345678987654321)"
   ]
  },
  {
   "cell_type": "code",
   "execution_count": 79,
   "id": "0094ac17-38b1-4f3d-8883-f5df3074ce60",
   "metadata": {},
   "outputs": [
    {
     "data": {
      "text/plain": [
       "True"
      ]
     },
     "execution_count": 79,
     "metadata": {},
     "output_type": "execute_result"
    }
   ],
   "source": [
    "PalindromeNumber.isPalindrome_reverse_integer(12345678987654321)"
   ]
  },
  {
   "cell_type": "code",
   "execution_count": null,
   "id": "08c49fbc-34a2-4395-9bb2-5a5b3f97137e",
   "metadata": {},
   "outputs": [],
   "source": []
  },
  {
   "cell_type": "code",
   "execution_count": null,
   "id": "1938e22a-6e1f-4e82-91ad-f6a9106d77ae",
   "metadata": {},
   "outputs": [],
   "source": []
  },
  {
   "cell_type": "code",
   "execution_count": null,
   "id": "225b3680-8ca0-4018-b09a-ee657c5e1f90",
   "metadata": {},
   "outputs": [],
   "source": []
  },
  {
   "cell_type": "code",
   "execution_count": null,
   "id": "f8889123-1ae7-468d-a0be-7d86021063d1",
   "metadata": {},
   "outputs": [],
   "source": []
  },
  {
   "cell_type": "code",
   "execution_count": null,
   "id": "2659848b-3902-45e6-a18a-5fa95725bbc0",
   "metadata": {},
   "outputs": [],
   "source": []
  },
  {
   "cell_type": "code",
   "execution_count": 80,
   "id": "e2746bd2-f06f-4a9d-bdc0-dd8312fb68e3",
   "metadata": {},
   "outputs": [],
   "source": [
    "import re"
   ]
  },
  {
   "cell_type": "code",
   "execution_count": 90,
   "id": "dfd069ac-e802-4031-a1bb-940d630652c6",
   "metadata": {},
   "outputs": [
    {
     "data": {
      "text/plain": [
       "True"
      ]
     },
     "execution_count": 90,
     "metadata": {},
     "output_type": "execute_result"
    }
   ],
   "source": [
    "bool(re.compile('.').match(\"abcdefg\"))"
   ]
  },
  {
   "cell_type": "code",
   "execution_count": 91,
   "id": "b7049e73-afb9-4b91-9185-70398699e2ac",
   "metadata": {},
   "outputs": [],
   "source": [
    "p = \"12345\""
   ]
  },
  {
   "cell_type": "code",
   "execution_count": 92,
   "id": "02a8782b-f81e-4294-b01e-26505d4e35b7",
   "metadata": {},
   "outputs": [
    {
     "data": {
      "text/plain": [
       "5"
      ]
     },
     "execution_count": 92,
     "metadata": {},
     "output_type": "execute_result"
    }
   ],
   "source": [
    "len(p)"
   ]
  },
  {
   "cell_type": "code",
   "execution_count": 93,
   "id": "3f8c9572-6c35-4c30-bce5-4389c375d827",
   "metadata": {},
   "outputs": [
    {
     "data": {
      "text/plain": [
       "4"
      ]
     },
     "execution_count": 93,
     "metadata": {},
     "output_type": "execute_result"
    }
   ],
   "source": [
    "len(p)-1"
   ]
  },
  {
   "cell_type": "code",
   "execution_count": 94,
   "id": "0c137d7b-92db-4a40-af26-03a3bda531fc",
   "metadata": {},
   "outputs": [
    {
     "data": {
      "text/plain": [
       "'5'"
      ]
     },
     "execution_count": 94,
     "metadata": {},
     "output_type": "execute_result"
    }
   ],
   "source": [
    "p[4]"
   ]
  },
  {
   "cell_type": "code",
   "execution_count": 95,
   "id": "53f7e59f-241c-46ac-9a31-f94ae29252b6",
   "metadata": {},
   "outputs": [
    {
     "name": "stdout",
     "output_type": "stream",
     "text": [
      "*\n",
      "*\n",
      "*\n",
      "*\n"
     ]
    }
   ],
   "source": [
    "for i in range(5):\n",
    "    \n",
    "    while i < 3:\n",
    "        print(\"*\")\n",
    "        i+=1\n",
    "        \n",
    "        if i == 2:\n",
    "            break"
   ]
  },
  {
   "cell_type": "code",
   "execution_count": 96,
   "id": "83f57a35-2705-4b31-b34f-06ee9cd4b1d0",
   "metadata": {},
   "outputs": [],
   "source": [
    "fill = []"
   ]
  },
  {
   "cell_type": "code",
   "execution_count": 97,
   "id": "589f4c16-8f07-4972-95ec-a17f19a14348",
   "metadata": {},
   "outputs": [],
   "source": [
    "fill.append([\"A\",2])"
   ]
  },
  {
   "cell_type": "code",
   "execution_count": 98,
   "id": "ba8ad4cf-d9bd-4a93-b63f-9352aa9751e1",
   "metadata": {},
   "outputs": [
    {
     "data": {
      "text/plain": [
       "[['A', 2]]"
      ]
     },
     "execution_count": 98,
     "metadata": {},
     "output_type": "execute_result"
    }
   ],
   "source": [
    "fill"
   ]
  },
  {
   "cell_type": "code",
   "execution_count": 99,
   "id": "7eaf0587-ee2d-49b8-ad0f-20e624341dcc",
   "metadata": {},
   "outputs": [
    {
     "data": {
      "text/plain": [
       "2"
      ]
     },
     "execution_count": 99,
     "metadata": {},
     "output_type": "execute_result"
    }
   ],
   "source": [
    "fill[-1][1]"
   ]
  },
  {
   "cell_type": "code",
   "execution_count": 16,
   "id": "f25876bb-8491-43d2-af8e-10a9f66a3931",
   "metadata": {},
   "outputs": [],
   "source": [
    "s = \"aabbbccdddd\""
   ]
  },
  {
   "cell_type": "code",
   "execution_count": 17,
   "id": "725c8247-ccbd-44e4-a91e-83f5c5892a59",
   "metadata": {},
   "outputs": [],
   "source": [
    "fill = [[s[0],1]]\n",
    "for i in s[1:]:\n",
    "\n",
    "    if fill[-1][0] == i:\n",
    "        fill[-1][1] += 1\n",
    "\n",
    "    else:\n",
    "        fill.append([i,1])"
   ]
  },
  {
   "cell_type": "code",
   "execution_count": 13,
   "id": "f4480e16-57da-496a-9840-a63bb190e7d8",
   "metadata": {},
   "outputs": [],
   "source": [
    "indices = []\n",
    "prev = \"\"\n",
    "for i in p:\n",
    "    \n",
    "    if i == \"*\":\n",
    "        i = prev\n",
    "        \n",
    "    prev = i\n",
    "    \n",
    "        \n",
    "    if i == \".\":\n",
    "        indices.append([1]*len(s))\n",
    "\n",
    "    else:\n",
    "        indices.append([int(i==x) for x in s])"
   ]
  },
  {
   "cell_type": "code",
   "execution_count": 16,
   "id": "03029ac6-ec82-40ae-9894-86c806cc5808",
   "metadata": {},
   "outputs": [
    {
     "data": {
      "text/plain": [
       "False"
      ]
     },
     "execution_count": 16,
     "metadata": {},
     "output_type": "execute_result"
    }
   ],
   "source": [
    "[1]*4 > [1,2,3,5]"
   ]
  },
  {
   "cell_type": "code",
   "execution_count": 97,
   "id": "559e1244-202f-4258-9bcc-ec8cf1bb19a3",
   "metadata": {},
   "outputs": [
    {
     "name": "stdout",
     "output_type": "stream",
     "text": [
      "False\n",
      "----\n",
      "4\n",
      "8\n",
      "16\n",
      "32\n",
      "64\n",
      "128\n",
      "256\n",
      "512\n",
      "1024\n",
      "2048\n"
     ]
    }
   ],
   "source": [
    "x = 2\n",
    "n=10\n",
    "\n",
    "neg = True if x < 0 else False\n",
    "print(neg)\n",
    "\n",
    "print(\"----\")\n",
    "\n",
    "ret = x\n",
    "\n",
    "for i in range(abs(n)):\n",
    "    ret*=x\n",
    "    print(ret)"
   ]
  },
  {
   "cell_type": "code",
   "execution_count": 1,
   "id": "6479598e-5360-40f3-a788-c7660c716d4d",
   "metadata": {},
   "outputs": [
    {
     "data": {
      "text/plain": [
       "1"
      ]
     },
     "execution_count": 1,
     "metadata": {},
     "output_type": "execute_result"
    }
   ],
   "source": [
    "1 ** (2**31-1)"
   ]
  },
  {
   "cell_type": "code",
   "execution_count": 86,
   "id": "e610a406-df5c-49dd-938e-403b57e19355",
   "metadata": {},
   "outputs": [
    {
     "data": {
      "text/plain": [
       "[4, 5, 1, 2, 3, 4]"
      ]
     },
     "execution_count": 86,
     "metadata": {},
     "output_type": "execute_result"
    }
   ],
   "source": [
    "l = [4,5,1,2,3,4]\n",
    "l"
   ]
  },
  {
   "cell_type": "code",
   "execution_count": 87,
   "id": "e2eb42e9-1b1e-434a-a852-239c9287d83c",
   "metadata": {},
   "outputs": [
    {
     "name": "stdout",
     "output_type": "stream",
     "text": [
      "Entered 5\n",
      "0 4 1\n",
      "Entered 2*\n",
      "[4, 5, 1, 2, 3, 4]\n",
      "[4, 5, 1, 5, 2, 3, 4]\n",
      "[4, 1, 5, 2, 3, 4]\n",
      "Inner Loop Done\n",
      "1 4 2\n",
      "Entered 2*\n",
      "[4, 1, 5, 2, 3, 4]\n",
      "[4, 1, 5, 2, 3, 5, 4]\n",
      "[4, 1, 2, 3, 5, 4]\n",
      "Inner Loop Done\n",
      "2 4 3\n",
      "Entered 2*\n",
      "[4, 1, 2, 3, 5, 4]\n",
      "[4, 1, 2, 3, 5, 4, 3]\n",
      "[4, 1, 2, 5, 4, 3]\n",
      "Inner Loop Done\n",
      "3 4 4\n",
      "Inner Loop Done\n",
      "Entered 4\n",
      "0 4 0\n",
      "Inner Loop Done\n",
      "1 4 0\n",
      "Entered 2*\n",
      "[4, 1, 2, 5, 4, 3]\n",
      "[4, 1, 2, 4, 5, 4, 3]\n",
      "[1, 2, 4, 5, 4, 3]\n",
      "Inner Loop Done\n",
      "2 4 1\n",
      "Inner Loop Done\n",
      "3 4 1\n",
      "Inner Loop Done\n",
      "4 4 1\n",
      "Inner Loop Done\n"
     ]
    }
   ],
   "source": [
    "for i in range(len(l)-2,-1,-1):\n",
    "    \n",
    "    if l[i] > l[i+1]:\n",
    "        \n",
    "        print(\"Entered\",l[i])\n",
    "        \n",
    "        # for n,j in enumerate(l[i+1:]):\n",
    "        for n in range(len((l[i+1:]))):\n",
    "            \n",
    "            print(n,j,i)\n",
    "            \n",
    "            if l[i] > l[n]:\n",
    "                \n",
    "                print(\"Entered 2*\")\n",
    "                print(l)\n",
    "                l.insert(i+1+n+1,l[i])\n",
    "                print(l)\n",
    "                l = l[:i] + l[i+1:]\n",
    "                print(l)\n",
    "                i += 1\n",
    "            \n",
    "            print(\"Inner Loop Done\")"
   ]
  },
  {
   "cell_type": "code",
   "execution_count": 88,
   "id": "118727e8-9cb4-49f2-a13e-a89b2fee3f47",
   "metadata": {},
   "outputs": [
    {
     "data": {
      "text/plain": [
       "[1, 2, 4, 5, 4, 3]"
      ]
     },
     "execution_count": 88,
     "metadata": {},
     "output_type": "execute_result"
    }
   ],
   "source": [
    "l"
   ]
  },
  {
   "cell_type": "code",
   "execution_count": null,
   "id": "02d4987d-7c1b-48ad-940b-fbc4733e4f1e",
   "metadata": {},
   "outputs": [],
   "source": [
    "for n,i in enumerate(l[::-1][1:]):\n",
    "    \n",
    "    if i > l[::-1][n]:\n",
    "        \n",
    "        for j in l[::-1][:n+1]:\n",
    "            \n",
    "            if j"
   ]
  },
  {
   "cell_type": "code",
   "execution_count": 20,
   "id": "3ca9fd52-bfaf-4d9c-b8e2-23d84c28cdb8",
   "metadata": {},
   "outputs": [
    {
     "data": {
      "text/plain": [
       "1"
      ]
     },
     "execution_count": 20,
     "metadata": {},
     "output_type": "execute_result"
    }
   ],
   "source": [
    "p.index(\"*\")"
   ]
  },
  {
   "cell_type": "code",
   "execution_count": 105,
   "id": "ff43d29f-ff2e-4d61-b845-0ee38889fe85",
   "metadata": {},
   "outputs": [
    {
     "data": {
      "text/plain": [
       "[['a', 2], ['b', 3], ['c', 2], ['d', 4]]"
      ]
     },
     "execution_count": 105,
     "metadata": {},
     "output_type": "execute_result"
    }
   ],
   "source": [
    "created = []\n",
    "prev = \"\"\n",
    "for i in p:\n",
    "    \n",
    "    if p not in [\".\",\"*\"]:\n",
    "        created.append([i,1])\n",
    "        prev = i\n",
    "        \n",
    "    elif p"
   ]
  },
  {
   "cell_type": "code",
   "execution_count": null,
   "id": "11d23ae2-a398-4531-89b1-a28426d885e1",
   "metadata": {},
   "outputs": [],
   "source": [
    "if fill2[0][0] == \".\":\n",
    "    "
   ]
  },
  {
   "cell_type": "code",
   "execution_count": null,
   "id": "c1abb525-cfc7-49fa-8dd2-be835175cbc8",
   "metadata": {},
   "outputs": [],
   "source": [
    "if . remove an item\n",
    "\n",
    "if * after . keep removing items until we reach value after c\n",
    "\n",
    "if * after char keep removing all occurences of char"
   ]
  },
  {
   "cell_type": "code",
   "execution_count": 33,
   "id": "944dc905-9426-412e-89e7-5873e4711536",
   "metadata": {},
   "outputs": [
    {
     "data": {
      "text/plain": [
       "['.*', 'b', 'c', '.', 'd*', 'e*']"
      ]
     },
     "execution_count": 33,
     "metadata": {},
     "output_type": "execute_result"
    }
   ],
   "source": [
    "p_l = []\n",
    "\n",
    "for i in p:\n",
    "    \n",
    "    if i == \"*\":\n",
    "        p_l[-1] = p_l[-1]+\"*\"\n",
    "    else:\n",
    "        p_l.append(i)\n",
    "        \n",
    "p_l"
   ]
  },
  {
   "cell_type": "code",
   "execution_count": 97,
   "id": "f8e3b440-89c7-41b2-85d9-e9072aa1666f",
   "metadata": {},
   "outputs": [
    {
     "name": "stdout",
     "output_type": "stream",
     "text": [
      "aabbbccdddd\n",
      ".*bc.fd*e*\n"
     ]
    },
    {
     "data": {
      "text/plain": [
       "['.*', 'b', 'c', '.', 'f', 'd*', 'e*']"
      ]
     },
     "execution_count": 97,
     "metadata": {},
     "output_type": "execute_result"
    }
   ],
   "source": [
    "s = \"aabbbccdddd\"\n",
    "print(s)\n",
    "\n",
    "p = \".*bc.fd*e*\"\n",
    "print(p)\n",
    "\n",
    "p_l = []\n",
    "for i in p:\n",
    "    if i == \"*\":\n",
    "        p_l[-1] = p_l[-1]+\"*\"\n",
    "    else:\n",
    "        p_l.append(i) \n",
    "p_l"
   ]
  },
  {
   "cell_type": "code",
   "execution_count": 98,
   "id": "ad23cf4f-9941-4dc8-9e86-7fe95e5ca0e1",
   "metadata": {},
   "outputs": [
    {
     "data": {
      "text/plain": [
       "([[1, 1, 1, 1, 1, 1, 1, 1, 1, 1, 1],\n",
       "  [0, 0, 1, 1, 1, 0, 0, 0, 0, 0, 0],\n",
       "  [0, 0, 0, 0, 0, 1, 1, 0, 0, 0, 0],\n",
       "  [1, 1, 1, 1, 1, 1, 1, 1, 1, 1, 1],\n",
       "  [0, 0, 0, 0, 0, 0, 0, 0, 0, 0, 0],\n",
       "  [0, 0, 0, 0, 0, 0, 0, 1, 1, 1, 1]],\n",
       " ['.*', 'b', 'c', '.', 'f', 'd*'])"
      ]
     },
     "execution_count": 98,
     "metadata": {},
     "output_type": "execute_result"
    }
   ],
   "source": [
    "indices = []\n",
    "used = []\n",
    "for i in p_l:\n",
    "        \n",
    "    if i[0] == \".\":\n",
    "        indices.append([1]*len(s))\n",
    "        used.append(i)\n",
    "\n",
    "    else:\n",
    "        app = [int(i[0]==x) for x in s]\n",
    "        if len(i) == 2:\n",
    "            if sum(app) != 0:\n",
    "                indices.append(app)\n",
    "                used.append(i)\n",
    "        else:\n",
    "            indices.append(app)\n",
    "            used.append(i)\n",
    "                \n",
    "indices, used"
   ]
  },
  {
   "cell_type": "code",
   "execution_count": 95,
   "id": "7cc4e2d9-40cf-41ff-b89a-a72c3a58c693",
   "metadata": {},
   "outputs": [],
   "source": [
    "last = []\n",
    "first = []\n",
    "for i in range(len(indices)):\n",
    "    first.append(indices[i].index(1))\n",
    "    last.append(len(indices[i])-1 - indices[i][::-1].index(1))"
   ]
  },
  {
   "cell_type": "code",
   "execution_count": 96,
   "id": "f6583461-f1db-4500-8149-376882e5bbf8",
   "metadata": {},
   "outputs": [],
   "source": [
    "for i in range(len(first)-1):\n",
    "    if last[i]+1 < first[i+1]:\n",
    "        print(i)\n",
    "        print(\"NOW\")\n",
    "        break"
   ]
  },
  {
   "cell_type": "code",
   "execution_count": 6,
   "id": "efdf2eaf-4ec9-480e-83de-d834cbc44ffe",
   "metadata": {},
   "outputs": [
    {
     "data": {
      "text/plain": [
       "[1, 1, 2, 3, 3, 4]"
      ]
     },
     "execution_count": 6,
     "metadata": {},
     "output_type": "execute_result"
    }
   ],
   "source": [
    "nums1 = [1,2,3]\n",
    "nums2=[1,3,4]\n",
    "\n",
    "new=nums1+nums2\n",
    "\n",
    "new.sort()\n",
    "\n",
    "new"
   ]
  },
  {
   "cell_type": "code",
   "execution_count": 8,
   "id": "fd7538bc-cb7c-4b2e-9fdf-af342d5eedce",
   "metadata": {},
   "outputs": [],
   "source": [
    "import numpy as np"
   ]
  },
  {
   "cell_type": "code",
   "execution_count": 12,
   "id": "18b03c41-f23d-46af-821a-b8b73ae63ac5",
   "metadata": {},
   "outputs": [
    {
     "data": {
      "text/plain": [
       "33"
      ]
     },
     "execution_count": 12,
     "metadata": {},
     "output_type": "execute_result"
    }
   ],
   "source": [
    "np.sum(np.minimum([8,6,2,5,4,8],8))"
   ]
  },
  {
   "cell_type": "code",
   "execution_count": 83,
   "id": "f41a660d-16ec-47fc-91c5-471451fda099",
   "metadata": {},
   "outputs": [
    {
     "name": "stdout",
     "output_type": "stream",
     "text": [
      "10\n",
      "4\n",
      "10\n",
      "6\n",
      "10\n",
      "10\n"
     ]
    }
   ],
   "source": [
    "print(len(indices[0])-1 - indices[0][::-1].index(1))\n",
    "print(len(indices[1])-1 - indices[1][::-1].index(1))\n",
    "print(len(indices[2])-1 - indices[2][::-1].index(1))\n",
    "print(len(indices[3])-1 - indices[3][::-1].index(1))\n",
    "print(len(indices[4])-1 - indices[4][::-1].index(1))\n",
    "print(len(indices[5])-1 - indices[5][::-1].index(1))"
   ]
  },
  {
   "cell_type": "code",
   "execution_count": 19,
   "id": "e77d4d55-883b-425b-8d62-b023766ab37b",
   "metadata": {},
   "outputs": [],
   "source": [
    "p = \".*bc.d*e*\""
   ]
  },
  {
   "cell_type": "code",
   "execution_count": 21,
   "id": "370a78e2-1775-45f9-99c3-2cacd005778a",
   "metadata": {},
   "outputs": [],
   "source": [
    "fill2 = [[p[0],1]]\n",
    "for i in p[1:]:\n",
    "\n",
    "    if fill2[-1][0] == i:\n",
    "        fill2[-1][1] += 1\n",
    "    elif i == \"*\":\n",
    "        fill2[-1][1] = \"*\"\n",
    "    else:\n",
    "        fill2.append([i,1])"
   ]
  },
  {
   "cell_type": "code",
   "execution_count": 22,
   "id": "8a84fa2b-4aef-492c-abb9-8c904c4ea73e",
   "metadata": {},
   "outputs": [
    {
     "data": {
      "text/plain": [
       "[['.', '*'], ['b', 1], ['c', 1], ['.', 1], ['d', '*'], ['e', '*']]"
      ]
     },
     "execution_count": 22,
     "metadata": {},
     "output_type": "execute_result"
    }
   ],
   "source": [
    "fill2"
   ]
  },
  {
   "cell_type": "code",
   "execution_count": null,
   "id": "ef2167e4-10a3-4036-83ec-bb1c9ce87ce4",
   "metadata": {},
   "outputs": [],
   "source": [
    "while len(fill2) != 0:\n",
    "    \n",
    "    if fill2[0][0] == fill[0][0]:\n",
    "        \n",
    "        if fill2[0][1] == \"*\":\n",
    "            fill[0][1] = 0\n",
    "        else:\n",
    "            fill[0][1] -= fill2[0][0][1]\n",
    "            \n",
    "        #We are done with this so move on\n",
    "        fill2 = fill2[1:]\n",
    "    \n",
    "    #Not matching\n",
    "    elif fill2[0][0] != fill[0][0] and fill2[0][1] != \"*\":\n",
    "        return False\n",
    "    \n",
    "    elif fill2[0][0] == \".\" and fill[0][0] != fill2[1][0]:\n",
    "        \n",
    "        if fill2[0][1] == \"*\":\n",
    "            fill[0][1] = 0\n",
    "            \n",
    "        else:\n",
    "            fill[0][1] -= fill2[0][0][1]\n",
    "            #We are done with this so move on\n",
    "            fill2 = fill2[1:]\n",
    "            \n",
    "    else:\n",
    "        f"
   ]
  },
  {
   "cell_type": "code",
   "execution_count": 1,
   "id": "92f46479-4705-4c16-831b-741eab414bbf",
   "metadata": {},
   "outputs": [
    {
     "data": {
      "text/plain": [
       "3"
      ]
     },
     "execution_count": 1,
     "metadata": {},
     "output_type": "execute_result"
    }
   ],
   "source": [
    "1+2"
   ]
  },
  {
   "cell_type": "code",
   "execution_count": null,
   "id": "a77109f6-a96b-424f-97e7-4cb118174f31",
   "metadata": {},
   "outputs": [],
   "source": []
  }
 ],
 "metadata": {
  "kernelspec": {
   "display_name": "Python 3 (ipykernel)",
   "language": "python",
   "name": "python3"
  },
  "language_info": {
   "codemirror_mode": {
    "name": "ipython",
    "version": 3
   },
   "file_extension": ".py",
   "mimetype": "text/x-python",
   "name": "python",
   "nbconvert_exporter": "python",
   "pygments_lexer": "ipython3",
   "version": "3.8.16"
  }
 },
 "nbformat": 4,
 "nbformat_minor": 5
}
